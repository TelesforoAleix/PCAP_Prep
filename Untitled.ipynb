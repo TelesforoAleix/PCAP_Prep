{
 "cells": [
  {
   "cell_type": "code",
   "execution_count": 1,
   "id": "04c37d0f-bbe3-490d-93ad-e21090d83682",
   "metadata": {},
   "outputs": [
    {
     "name": "stdout",
     "output_type": "stream",
     "text": [
      "['esta', 'es', 'una', 'frase']\n"
     ]
    }
   ],
   "source": [
    "frase = 'esta es una frase'\n",
    "\n",
    "palabras = frase.split(' ')\n",
    "\n",
    "print(palabras)"
   ]
  },
  {
   "cell_type": "code",
   "execution_count": 3,
   "id": "7541fda8-107e-4b6b-9f9b-06bf6c1536e3",
   "metadata": {},
   "outputs": [
    {
     "ename": "SyntaxError",
     "evalue": "invalid syntax (2077160872.py, line 1)",
     "output_type": "error",
     "traceback": [
      "\u001b[1;36m  Cell \u001b[1;32mIn[3], line 1\u001b[1;36m\u001b[0m\n\u001b[1;33m    Funciones de búsqueda de texto en una cadena de texto\u001b[0m\n\u001b[1;37m              ^\u001b[0m\n\u001b[1;31mSyntaxError\u001b[0m\u001b[1;31m:\u001b[0m invalid syntax\n"
     ]
    }
   ],
   "source": [
    "Funciones de búsqueda de texto en una cadena de texto"
   ]
  },
  {
   "cell_type": "code",
   "execution_count": 6,
   "id": "eee37f4e-dcf3-4627-9f10-e55c25904f07",
   "metadata": {},
   "outputs": [
    {
     "name": "stdout",
     "output_type": "stream",
     "text": [
      "8\n"
     ]
    }
   ],
   "source": [
    "frase = 'Hoy es miercoles'\n",
    "posi = frase.find('i')\n",
    "print(posi)"
   ]
  },
  {
   "cell_type": "code",
   "execution_count": null,
   "id": "28787465-e7bb-4a1b-9e40-0f3fde1f6709",
   "metadata": {},
   "outputs": [],
   "source": []
  }
 ],
 "metadata": {
  "kernelspec": {
   "display_name": "Python 3 (ipykernel)",
   "language": "python",
   "name": "python3"
  },
  "language_info": {
   "codemirror_mode": {
    "name": "ipython",
    "version": 3
   },
   "file_extension": ".py",
   "mimetype": "text/x-python",
   "name": "python",
   "nbconvert_exporter": "python",
   "pygments_lexer": "ipython3",
   "version": "3.12.3"
  }
 },
 "nbformat": 4,
 "nbformat_minor": 5
}
